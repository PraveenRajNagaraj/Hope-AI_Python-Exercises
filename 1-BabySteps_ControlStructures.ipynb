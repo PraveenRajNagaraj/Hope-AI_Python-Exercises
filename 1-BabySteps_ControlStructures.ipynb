{
 "cells": [
  {
   "cell_type": "code",
   "execution_count": 2,
   "metadata": {},
   "outputs": [
    {
     "name": "stdout",
     "output_type": "stream",
     "text": [
      "Welcome to Assignment-1\n"
     ]
    }
   ],
   "source": [
    "print(\"Welcome to Assignment-1\")"
   ]
  },
  {
   "cell_type": "code",
   "execution_count": 3,
   "metadata": {},
   "outputs": [
    {
     "name": "stdout",
     "output_type": "stream",
     "text": [
      "Num1= 10\n",
      "Num2= 30\n",
      "Add=  40\n"
     ]
    }
   ],
   "source": [
    "num1=int(input(\"Num1= \"))\n",
    "num2=int(input(\"Num2= \"))\n",
    "print(\"Add= \",num1+num2)"
   ]
  },
  {
   "cell_type": "code",
   "execution_count": 7,
   "metadata": {},
   "outputs": [
    {
     "name": "stdout",
     "output_type": "stream",
     "text": [
      "Enter the BMI Index:24.333\n",
      "Overweight\n"
     ]
    }
   ],
   "source": [
    "bmi=float(input(\"Enter the BMI Index:\"))\n",
    "if(bmi<18.5):\n",
    "    print(\"Underwight\")\n",
    "elif(bmi>=18.5 and bmi<=22.9):\n",
    "    print(\"Normal\")\n",
    "elif(bmi>=23 and bmi<=24.9):\n",
    "    print(\"Overweight\")\n",
    "elif(bmi>=25 and bmi<=29.9):\n",
    "    print(\"Pre-Obese\")\n",
    "elif(bmi>=30 and bmi<=40):\n",
    "    print(\"Obese Type 1\")\n",
    "elif(bmi>=40.1 and bmi<=50):\n",
    "    print(\"Obese Type 2\")\n",
    "else:\n",
    "    print(\"Super Obese\")"
   ]
  },
  {
   "cell_type": "code",
   "execution_count": null,
   "metadata": {},
   "outputs": [],
   "source": []
  }
 ],
 "metadata": {
  "kernelspec": {
   "display_name": "Python 3",
   "language": "python",
   "name": "python3"
  },
  "language_info": {
   "codemirror_mode": {
    "name": "ipython",
    "version": 3
   },
   "file_extension": ".py",
   "mimetype": "text/x-python",
   "name": "python",
   "nbconvert_exporter": "python",
   "pygments_lexer": "ipython3",
   "version": "3.7.4"
  }
 },
 "nbformat": 4,
 "nbformat_minor": 2
}
