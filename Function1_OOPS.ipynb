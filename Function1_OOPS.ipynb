{
 "cells": [
  {
   "cell_type": "code",
   "execution_count": 2,
   "metadata": {},
   "outputs": [
    {
     "name": "stdout",
     "output_type": "stream",
     "text": [
      "Enter the age: 78\n",
      "Senior Citizen\n"
     ]
    }
   ],
   "source": [
    "age=int(input(\"Enter the age: \"))\n",
    "def AgeCategory():\n",
    "    if(age<18):\n",
    "        print(\"Not Adult\")\n",
    "        cate=\"Not Adult\"\n",
    "    elif(age>=18 and age<=35):\n",
    "        print(\"Adult\")\n",
    "        cate=\"Adult\"\n",
    "    elif(age>35 and age<=59):\n",
    "        print(\"Citizen\")\n",
    "        cate=\"Citizen\"\n",
    "    else:\n",
    "        print(\"Senior Citizen\")\n",
    "        cate=\"Senior Citizen\"\n",
    "    ##return cate\n",
    "##AgeCategory()\n",
    "agecate=AgeCategory()"
   ]
  },
  {
   "cell_type": "code",
   "execution_count": 3,
   "metadata": {},
   "outputs": [
    {
     "name": "stdout",
     "output_type": "stream",
     "text": [
      "None\n"
     ]
    }
   ],
   "source": [
    "print(agecate)"
   ]
  },
  {
   "cell_type": "code",
   "execution_count": 6,
   "metadata": {},
   "outputs": [
    {
     "name": "stdout",
     "output_type": "stream",
     "text": [
      "Enter the BMI Index: 78\n",
      "Super Obese\n",
      "Maintain Diet\n"
     ]
    }
   ],
   "source": [
    "def BMIINDEX():\n",
    "    bmi=float(input(\"Enter the BMI Index: \"))\n",
    "    if(bmi<18.5):\n",
    "        print(\"Underwight\")\n",
    "        message=\"Underweight\"\n",
    "    elif(bmi>=18.5 and bmi<=22.9):\n",
    "        print(\"Normal\")\n",
    "        message=\"Normal\"\n",
    "    elif(bmi>=23 and bmi<=24.9):\n",
    "        print(\"Overweight\")\n",
    "        message=\"Overweight\"\n",
    "    elif(bmi>=25 and bmi<=29.9):\n",
    "        print(\"Pre-Obese\")\n",
    "        message=\"Pre-Obese\"\n",
    "    elif(bmi>=30 and bmi<=40):\n",
    "        print(\"Obese Type 1\")\n",
    "        message=\"Obese Type 1\"\n",
    "    elif(bmi>=40.1 and bmi<=50):\n",
    "        print(\"Obese Type 2\")\n",
    "        message=\"Obese Type 2\"\n",
    "    else:\n",
    "        print(\"Super Obese\")\n",
    "        message=\"Super Obese\"\n",
    "    return message\n",
    "result=BMIINDEX()\n",
    "if(result==\"Normal\"):\n",
    "    print(\"Good Job\")\n",
    "else:\n",
    "    print(\"Maintain Diet\")\n"
   ]
  },
  {
   "cell_type": "code",
   "execution_count": 7,
   "metadata": {},
   "outputs": [
    {
     "data": {
      "text/plain": [
       "9"
      ]
     },
     "execution_count": 7,
     "metadata": {},
     "output_type": "execute_result"
    }
   ],
   "source": [
    "def addition(num1,num2):\n",
    "    add=num1+num2\n",
    "    return add\n",
    "addition(5,4)"
   ]
  }
 ],
 "metadata": {
  "kernelspec": {
   "display_name": "Python 3",
   "language": "python",
   "name": "python3"
  },
  "language_info": {
   "codemirror_mode": {
    "name": "ipython",
    "version": 3
   },
   "file_extension": ".py",
   "mimetype": "text/x-python",
   "name": "python",
   "nbconvert_exporter": "python",
   "pygments_lexer": "ipython3",
   "version": "3.7.4"
  }
 },
 "nbformat": 4,
 "nbformat_minor": 2
}
