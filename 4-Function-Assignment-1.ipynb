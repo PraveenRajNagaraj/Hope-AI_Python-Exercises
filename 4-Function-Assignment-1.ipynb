{
 "cells": [
  {
   "cell_type": "code",
   "execution_count": 3,
   "metadata": {},
   "outputs": [
    {
     "name": "stdout",
     "output_type": "stream",
     "text": [
      "Sub-fields in AI are:\n",
      "Machine Learning\n",
      "Neural Networks\n",
      "Vision\n",
      "Robotics\n",
      "Speech Processing\n",
      "Natural Language Processing\n"
     ]
    }
   ],
   "source": [
    "def subfields():\n",
    "    print(\"Sub-fields in AI are:\\nMachine Learning\\nNeural Networks\\nVision\\nRobotics\\nSpeech Processing\\nNatural Language Processing\")\n",
    "subfields()"
   ]
  },
  {
   "cell_type": "code",
   "execution_count": 14,
   "metadata": {},
   "outputs": [
    {
     "name": "stdout",
     "output_type": "stream",
     "text": [
      "Sub-fields in AI are:\n",
      "Machine Learning\n",
      "Neural Networks\n",
      "Vision\n",
      "Robotics\n",
      "Speech Processing\n",
      "Natural Language Processing\n"
     ]
    }
   ],
   "source": [
    "def subfields():\n",
    "    message=[\"Sub-fields in AI are:\",\"Machine Learning\",\"Neural Networks\",\"Vision\",\"Robotics\",\"Speech Processing\",\"Natural Language Processing\"]\n",
    "    for i in message:\n",
    "        print(i)\n",
    "subfields()"
   ]
  },
  {
   "cell_type": "code",
   "execution_count": 2,
   "metadata": {},
   "outputs": [
    {
     "name": "stdout",
     "output_type": "stream",
     "text": [
      "Enter a number: 78\n",
      "78 is Even Number\n"
     ]
    }
   ],
   "source": [
    "def OddEven():\n",
    "    number=int(input(\"Enter a number: \"))\n",
    "    if(number%2==1):\n",
    "        print(number,\"is Odd Number\")\n",
    "    else:\n",
    "        print(number,\"is Even Number\")\n",
    "OddEven()"
   ]
  },
  {
   "cell_type": "code",
   "execution_count": 1,
   "metadata": {},
   "outputs": [
    {
     "name": "stdout",
     "output_type": "stream",
     "text": [
      "Your Gender: Male\n",
      "Your Age: 35\n",
      "Eligible\n"
     ]
    }
   ],
   "source": [
    "def Eligible():\n",
    "    gender=input(\"Your Gender: \")\n",
    "    age=int(input(\"Your Age: \"))\n",
    "    if(gender==\"Male\" and age<21):\n",
    "        print(\"Not Eligible\")\n",
    "        message=\"Not Eligible\"\n",
    "    elif(gender==\"Male\" and age>=21):\n",
    "        print(\"Eligible\")\n",
    "        message=\"Eligible\"\n",
    "    elif(gender==\"Female\" and age<18):\n",
    "        print(\"Not Eligible\")\n",
    "        message=\"Not Eligible\"\n",
    "    elif(gender==\"Female\" and age>=18):\n",
    "        print(\"Eligible\")\n",
    "        message=\"Eligible\"\n",
    "    return message\n",
    "result=Eligible()"
   ]
  },
  {
   "cell_type": "code",
   "execution_count": 9,
   "metadata": {},
   "outputs": [
    {
     "name": "stdout",
     "output_type": "stream",
     "text": [
      "Subject1= 98\n",
      "Subject2= 87\n",
      "Subject3= 95\n",
      "Subject4= 95\n",
      "Subject5= 93\n",
      "Total:  468\n",
      "Percentage:  93.60000000000001\n"
     ]
    }
   ],
   "source": [
    "def percentage():\n",
    "    Subject1=int(input(\"Subject1= \"))\n",
    "    Subject2=int(input(\"Subject2= \"))\n",
    "    Subject3=int(input(\"Subject3= \"))\n",
    "    Subject4=int(input(\"Subject4= \"))\n",
    "    Subject5=int(input(\"Subject5= \"))\n",
    "    total=Subject1+Subject2+Subject3+Subject4+Subject5\n",
    "    print(\"Total: \",total)\n",
    "    result=(total/500)*100\n",
    "    print(\"Percentage: \",result)\n",
    "percentage()"
   ]
  },
  {
   "cell_type": "code",
   "execution_count": null,
   "metadata": {},
   "outputs": [],
   "source": []
  },
  {
   "cell_type": "code",
   "execution_count": 10,
   "metadata": {},
   "outputs": [
    {
     "name": "stdout",
     "output_type": "stream",
     "text": [
      "Height: 2\n",
      "Breadth: 3\n",
      "Area of Triangle:  3.0\n",
      "Height1: 2\n",
      "Height2: 3\n",
      "Perimeter of Triangle:  8\n"
     ]
    }
   ],
   "source": [
    "def triangle():\n",
    "    height=int(input(\"Height: \"))\n",
    "    breadth=int(input(\"Breadth: \"))\n",
    "    Area=(height*breadth)/2\n",
    "    print(\"Area of Triangle: \",Area)\n",
    "    height1=int(input(\"Height1: \"))\n",
    "    height2=int(input(\"Height2: \"))\n",
    "    Perimeter=height1+height2+breadth\n",
    "    print(\"Perimeter of Triangle: \",Perimeter)\n",
    "triangle()"
   ]
  },
  {
   "cell_type": "code",
   "execution_count": 5,
   "metadata": {},
   "outputs": [
    {
     "name": "stdout",
     "output_type": "stream",
     "text": [
      "Height: 3\n",
      "Breadth: 4\n",
      "Area of Triangle:  6.0\n",
      "Height1: 3\n",
      "Height2: 4\n",
      "Perimeter of Triangle:  11\n"
     ]
    },
    {
     "data": {
      "text/plain": [
       "6.0"
      ]
     },
     "execution_count": 5,
     "metadata": {},
     "output_type": "execute_result"
    }
   ],
   "source": [
    "def triangle():\n",
    "    height=int(input(\"Height: \"))\n",
    "    breadth=int(input(\"Breadth: \"))\n",
    "    Area=(height*breadth)/2\n",
    "    print(\"Area of Triangle: \",Area)\n",
    "    result=Area\n",
    "    height1=int(input(\"Height1: \"))\n",
    "    height2=int(input(\"Height2: \"))\n",
    "    Perimeter=height1+height2+breadth\n",
    "    print(\"Perimeter of Triangle: \",Perimeter)\n",
    "    result1=Perimeter\n",
    "    return result\n",
    "    return result1\n",
    "triangle()"
   ]
  },
  {
   "cell_type": "code",
   "execution_count": null,
   "metadata": {},
   "outputs": [],
   "source": []
  }
 ],
 "metadata": {
  "kernelspec": {
   "display_name": "Python 3",
   "language": "python",
   "name": "python3"
  },
  "language_info": {
   "codemirror_mode": {
    "name": "ipython",
    "version": 3
   },
   "file_extension": ".py",
   "mimetype": "text/x-python",
   "name": "python",
   "nbconvert_exporter": "python",
   "pygments_lexer": "ipython3",
   "version": "3.7.4"
  }
 },
 "nbformat": 4,
 "nbformat_minor": 2
}
