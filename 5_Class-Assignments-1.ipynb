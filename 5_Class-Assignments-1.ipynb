{
 "cells": [
  {
   "cell_type": "code",
   "execution_count": 1,
   "metadata": {},
   "outputs": [
    {
     "name": "stdout",
     "output_type": "stream",
     "text": [
      "Sub-fields in AI are:\n",
      "Machine Learning\n",
      "Neural Networks\n",
      "Vision\n",
      "Robotics\n",
      "Speech Processing\n",
      "Natural Language Processing\n"
     ]
    }
   ],
   "source": [
    "class SubfieldsInAI():\n",
    "    def subfields():\n",
    "        message=[\"Sub-fields in AI are:\",\"Machine Learning\",\"Neural Networks\",\"Vision\",\"Robotics\",\"Speech Processing\",\"Natural Language Processing\"]\n",
    "        for i in message:\n",
    "            print(i)\n",
    "SubfieldsInAI.subfields()"
   ]
  },
  {
   "cell_type": "code",
   "execution_count": 2,
   "metadata": {},
   "outputs": [
    {
     "name": "stdout",
     "output_type": "stream",
     "text": [
      "Enter a number: 9\n",
      "9 is Odd Number\n"
     ]
    }
   ],
   "source": [
    "class OddEvenClass():\n",
    "    def OddEven():\n",
    "        number=int(input(\"Enter a number: \"))\n",
    "        if(number%2==1):\n",
    "            print(number,\"is Odd Number\")\n",
    "        else:\n",
    "            print(number,\"is Even Number\")\n",
    "OddEvenClass.OddEven()"
   ]
  },
  {
   "cell_type": "code",
   "execution_count": 8,
   "metadata": {},
   "outputs": [
    {
     "name": "stdout",
     "output_type": "stream",
     "text": [
      "Your Gender: Male\n",
      "Your Age: 88\n",
      "Eligible\n"
     ]
    },
    {
     "data": {
      "text/plain": [
       "'Eligible'"
      ]
     },
     "execution_count": 8,
     "metadata": {},
     "output_type": "execute_result"
    }
   ],
   "source": [
    "class eligibilityformarriage():\n",
    "    def Eligible():\n",
    "        gender=input(\"Your Gender: \")\n",
    "        age=int(input(\"Your Age: \"))\n",
    "        if(gender==\"Male\" and age<21):\n",
    "            print(\"Not Eligible\")\n",
    "            message=\"Not Eligible\"\n",
    "        elif(gender==\"Male\" and age>=21):\n",
    "            print(\"Eligible\")\n",
    "            message=\"Eligible\"\n",
    "        elif(gender==\"Female\" and age<18):\n",
    "            print(\"Not Eligible\")\n",
    "            message=\"Not Eligible\"\n",
    "        elif(gender==\"Female\" and age>=18):\n",
    "            print(\"Eligible\")\n",
    "            message=\"Eligible\"\n",
    "        return message\n",
    "eligibilityformarriage.Eligible()"
   ]
  },
  {
   "cell_type": "code",
   "execution_count": 11,
   "metadata": {},
   "outputs": [
    {
     "name": "stdout",
     "output_type": "stream",
     "text": [
      "Subject1= 89\n",
      "Subject2= 90\n",
      "Subject3= 89\n",
      "Subject4= 95\n",
      "Subject5= 95\n",
      "Total:  458\n",
      "Percentage:  91.60000000000001\n"
     ]
    }
   ],
   "source": [
    "class FindPercentage():\n",
    "    def percentage():\n",
    "        Subject1=int(input(\"Subject1= \"))\n",
    "        Subject2=int(input(\"Subject2= \"))\n",
    "        Subject3=int(input(\"Subject3= \"))\n",
    "        Subject4=int(input(\"Subject4= \"))\n",
    "        Subject5=int(input(\"Subject5= \"))\n",
    "        total=Subject1+Subject2+Subject3+Subject4+Subject5\n",
    "        print(\"Total: \",total)\n",
    "        result=(total/500)*100\n",
    "        print(\"Percentage: \",result)\n",
    "FindPercentage.percentage()"
   ]
  },
  {
   "cell_type": "code",
   "execution_count": 12,
   "metadata": {},
   "outputs": [
    {
     "name": "stdout",
     "output_type": "stream",
     "text": [
      "Height: 2\n",
      "Breadth: 3\n",
      "Area of Triangle:  3.0\n",
      "Height1: 5\n",
      "Height2: 6\n",
      "Perimeter of Triangle:  14\n"
     ]
    }
   ],
   "source": [
    "class triangle():\n",
    "    def triangle():\n",
    "        height=int(input(\"Height: \"))\n",
    "        breadth=int(input(\"Breadth: \"))\n",
    "        Area=(height*breadth)/2\n",
    "        print(\"Area of Triangle: \",Area)\n",
    "        height1=int(input(\"Height1: \"))\n",
    "        height2=int(input(\"Height2: \"))\n",
    "        Perimeter=height1+height2+breadth\n",
    "        print(\"Perimeter of Triangle: \",Perimeter)\n",
    "triangle.triangle()\n"
   ]
  }
 ],
 "metadata": {
  "kernelspec": {
   "display_name": "Python 3",
   "language": "python",
   "name": "python3"
  },
  "language_info": {
   "codemirror_mode": {
    "name": "ipython",
    "version": 3
   },
   "file_extension": ".py",
   "mimetype": "text/x-python",
   "name": "python",
   "nbconvert_exporter": "python",
   "pygments_lexer": "ipython3",
   "version": "3.7.4"
  }
 },
 "nbformat": 4,
 "nbformat_minor": 2
}
