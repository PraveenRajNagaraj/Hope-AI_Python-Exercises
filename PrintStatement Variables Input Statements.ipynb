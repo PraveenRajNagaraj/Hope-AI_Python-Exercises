{
 "cells": [
  {
   "cell_type": "code",
   "execution_count": 1,
   "metadata": {},
   "outputs": [
    {
     "name": "stdout",
     "output_type": "stream",
     "text": [
      "Welcome\n"
     ]
    }
   ],
   "source": [
    "print(\"Welcome\")"
   ]
  },
  {
   "cell_type": "code",
   "execution_count": 2,
   "metadata": {},
   "outputs": [
    {
     "name": "stdout",
     "output_type": "stream",
     "text": [
      "30\n"
     ]
    }
   ],
   "source": [
    "a=10\n",
    "b=20\n",
    "print(a+b)"
   ]
  },
  {
   "cell_type": "code",
   "execution_count": 4,
   "metadata": {},
   "outputs": [
    {
     "name": "stdout",
     "output_type": "stream",
     "text": [
      "13\n",
      "-1\n"
     ]
    }
   ],
   "source": [
    "num1=6\n",
    "num2=7\n",
    "add=num1+num2\n",
    "sub=num1-num2\n",
    "print(add)\n",
    "print(sub)"
   ]
  },
  {
   "cell_type": "code",
   "execution_count": 5,
   "metadata": {},
   "outputs": [
    {
     "ename": "IndentationError",
     "evalue": "unexpected indent (<ipython-input-5-71b503ae5939>, line 2)",
     "output_type": "error",
     "traceback": [
      "\u001b[1;36m  File \u001b[1;32m\"<ipython-input-5-71b503ae5939>\"\u001b[1;36m, line \u001b[1;32m2\u001b[0m\n\u001b[1;33m    LastName=\"Shirmila\"\u001b[0m\n\u001b[1;37m    ^\u001b[0m\n\u001b[1;31mIndentationError\u001b[0m\u001b[1;31m:\u001b[0m unexpected indent\n"
     ]
    }
   ],
   "source": [
    " FirstName=\"Keren\"\n",
    "    LastName=\"Shirmila\"\n",
    "    print(FirstName+LastName)"
   ]
  },
  {
   "cell_type": "code",
   "execution_count": 6,
   "metadata": {},
   "outputs": [
    {
     "ename": "IndentationError",
     "evalue": "unexpected indent (<ipython-input-6-2e9c546a48a2>, line 2)",
     "output_type": "error",
     "traceback": [
      "\u001b[1;36m  File \u001b[1;32m\"<ipython-input-6-2e9c546a48a2>\"\u001b[1;36m, line \u001b[1;32m2\u001b[0m\n\u001b[1;33m    LastName=Shirmila\u001b[0m\n\u001b[1;37m    ^\u001b[0m\n\u001b[1;31mIndentationError\u001b[0m\u001b[1;31m:\u001b[0m unexpected indent\n"
     ]
    }
   ],
   "source": [
    " FirstName=Keren\n",
    "    LastName=Shirmila\n",
    "    print(FirstName+LastName)"
   ]
  },
  {
   "cell_type": "code",
   "execution_count": 7,
   "metadata": {},
   "outputs": [
    {
     "name": "stdout",
     "output_type": "stream",
     "text": [
      "KerenShirmila\n"
     ]
    }
   ],
   "source": [
    "FirstName=\"Keren\"\n",
    "LastName=\"Shirmila\"\n",
    "print(FirstName+LastName)"
   ]
  },
  {
   "cell_type": "code",
   "execution_count": 8,
   "metadata": {},
   "outputs": [
    {
     "name": "stdout",
     "output_type": "stream",
     "text": [
      "Keren Shirmila\n"
     ]
    }
   ],
   "source": [
    "FirstName=\"Keren\"\n",
    "MiddleName=\" \"\n",
    "LastName=\"Shirmila\"\n",
    "print(FirstName+MiddleName+LastName)"
   ]
  },
  {
   "cell_type": "code",
   "execution_count": 9,
   "metadata": {},
   "outputs": [
    {
     "name": "stdout",
     "output_type": "stream",
     "text": [
      "Full name is  Keren Shirmila\n"
     ]
    }
   ],
   "source": [
    "FirstName=\"Keren\"\n",
    "MiddleName=\" \"\n",
    "LastName=\"Shirmila\"\n",
    "print(\"Full name is \", FirstName+MiddleName+LastName)"
   ]
  },
  {
   "cell_type": "code",
   "execution_count": 10,
   "metadata": {},
   "outputs": [
    {
     "name": "stdout",
     "output_type": "stream",
     "text": [
      "Addition of two numbers\n",
      "The Number 1:  10\n",
      "The Number 2:  20\n",
      "The answer is  30\n"
     ]
    }
   ],
   "source": [
    "num1=10\n",
    "num2=20\n",
    "print(\"Addition of two numbers\")\n",
    "print(\"The Number 1: \",num1)\n",
    "print(\"The Number 2: \",num2)\n",
    "print(\"The answer is \",num1+num2)"
   ]
  },
  {
   "cell_type": "code",
   "execution_count": 11,
   "metadata": {},
   "outputs": [
    {
     "ename": "SyntaxError",
     "evalue": "EOL while scanning string literal (<ipython-input-11-36201463ecc1>, line 1)",
     "output_type": "error",
     "traceback": [
      "\u001b[1;36m  File \u001b[1;32m\"<ipython-input-11-36201463ecc1>\"\u001b[1;36m, line \u001b[1;32m1\u001b[0m\n\u001b[1;33m    num1=int(input(\"Enter the value for Number1: \"\"))\u001b[0m\n\u001b[1;37m                                                     ^\u001b[0m\n\u001b[1;31mSyntaxError\u001b[0m\u001b[1;31m:\u001b[0m EOL while scanning string literal\n"
     ]
    }
   ],
   "source": [
    "num1=int(input(\"Enter the value for Number1: \"\"))"
   ]
  },
  {
   "cell_type": "code",
   "execution_count": 12,
   "metadata": {},
   "outputs": [
    {
     "name": "stdout",
     "output_type": "stream",
     "text": [
      "Enter the value for Number1: 10\n"
     ]
    }
   ],
   "source": [
    "num1=int(input(\"Enter the value for Number1: \"))"
   ]
  },
  {
   "cell_type": "code",
   "execution_count": 13,
   "metadata": {},
   "outputs": [],
   "source": [
    "a='name'"
   ]
  },
  {
   "cell_type": "code",
   "execution_count": 14,
   "metadata": {},
   "outputs": [
    {
     "name": "stdout",
     "output_type": "stream",
     "text": [
      "KerenDaniel\n"
     ]
    }
   ],
   "source": [
    "a=\"Keren\"\n",
    "b='Daniel'\n",
    "print(a+b)"
   ]
  },
  {
   "cell_type": "code",
   "execution_count": null,
   "metadata": {},
   "outputs": [],
   "source": []
  }
 ],
 "metadata": {
  "kernelspec": {
   "display_name": "Python 3",
   "language": "python",
   "name": "python3"
  },
  "language_info": {
   "codemirror_mode": {
    "name": "ipython",
    "version": 3
   },
   "file_extension": ".py",
   "mimetype": "text/x-python",
   "name": "python",
   "nbconvert_exporter": "python",
   "pygments_lexer": "ipython3",
   "version": "3.7.4"
  }
 },
 "nbformat": 4,
 "nbformat_minor": 2
}
