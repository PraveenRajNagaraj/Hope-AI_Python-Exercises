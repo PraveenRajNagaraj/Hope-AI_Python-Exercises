{
 "cells": [
  {
   "cell_type": "code",
   "execution_count": 3,
   "metadata": {},
   "outputs": [
    {
     "name": "stdout",
     "output_type": "stream",
     "text": [
      "Addition:  5\n",
      "Subtraction:  -1\n",
      "Multiplication:  6\n"
     ]
    }
   ],
   "source": [
    "class calculator():\n",
    "    def addition(a,b):\n",
    "        add=a+b\n",
    "        return add\n",
    "    def subtraction(a,b):\n",
    "        sub=a-b\n",
    "        return sub\n",
    "    def Multiplication(a,b):\n",
    "        mul=a*b\n",
    "        return mul\n",
    "result1=calculator.addition(2,3)\n",
    "print(\"Addition: \",result1)\n",
    "result2=calculator.subtraction(2,3)\n",
    "print(\"Subtraction: \",result2)\n",
    "result3=calculator.Multiplication(2,3)\n",
    "print(\"Multiplication: \",result3)\n",
    "        "
   ]
  }
 ],
 "metadata": {
  "kernelspec": {
   "display_name": "Python 3",
   "language": "python",
   "name": "python3"
  },
  "language_info": {
   "codemirror_mode": {
    "name": "ipython",
    "version": 3
   },
   "file_extension": ".py",
   "mimetype": "text/x-python",
   "name": "python",
   "nbconvert_exporter": "python",
   "pygments_lexer": "ipython3",
   "version": "3.7.4"
  }
 },
 "nbformat": 4,
 "nbformat_minor": 2
}
